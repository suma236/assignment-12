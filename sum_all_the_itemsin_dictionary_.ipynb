{
  "nbformat": 4,
  "nbformat_minor": 0,
  "metadata": {
    "colab": {
      "name": "sum all the itemsin dictionary .ipynb",
      "provenance": []
    },
    "kernelspec": {
      "name": "python3",
      "display_name": "Python 3"
    }
  },
  "cells": [
    {
      "cell_type": "code",
      "metadata": {
        "id": "5BNzNedrG660",
        "colab_type": "code",
        "colab": {
          "base_uri": "https://localhost:8080/",
          "height": 34
        },
        "outputId": "e690bf5f-7d93-442a-f40d-eb131cc7387e"
      },
      "source": [
        "my_dict={'data1':100,'data2':-54,'data3':247}\n",
        "print(sum(my_dict.values()))"
      ],
      "execution_count": 1,
      "outputs": [
        {
          "output_type": "stream",
          "text": [
            "293\n"
          ],
          "name": "stdout"
        }
      ]
    }
  ]
}