{
  "nbformat": 4,
  "nbformat_minor": 0,
  "metadata": {
    "colab": {
      "name": "list t of tuple into dictinary.ipynb",
      "provenance": []
    },
    "kernelspec": {
      "name": "python3",
      "display_name": "Python 3"
    }
  },
  "cells": [
    {
      "cell_type": "code",
      "metadata": {
        "id": "cQVTVXRkDzTg",
        "colab_type": "code",
        "colab": {
          "base_uri": "https://localhost:8080/",
          "height": 34
        },
        "outputId": "37e7aeb0-30d3-4f92-e04f-2359b6c637be"
      },
      "source": [
        "def listtodict(A,di):\n",
        "    di=dict(A)\n",
        "    return di\n",
        "A=[(\"suma\",5),(\"rahul\",10),(\"anjali\",15),(\"ramya\",20)]\n",
        "di={}\n",
        "print(\"the dictionary is::>\",listtodict(A,di))"
      ],
      "execution_count": 2,
      "outputs": [
        {
          "output_type": "stream",
          "text": [
            "the dictionary is::> {'suma': 5, 'rahul': 10, 'anjali': 15, 'ramya': 20}\n"
          ],
          "name": "stdout"
        }
      ]
    }
  ]
}