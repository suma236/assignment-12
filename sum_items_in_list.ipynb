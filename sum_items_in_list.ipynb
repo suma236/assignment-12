{
  "nbformat": 4,
  "nbformat_minor": 0,
  "metadata": {
    "colab": {
      "name": "sum items in list.ipynb",
      "provenance": []
    },
    "kernelspec": {
      "name": "python3",
      "display_name": "Python 3"
    }
  },
  "cells": [
    {
      "cell_type": "code",
      "metadata": {
        "id": "tOcc7GnAL_-1",
        "colab_type": "code",
        "colab": {
          "base_uri": "https://localhost:8080/",
          "height": 34
        },
        "outputId": "9fd7ff19-4de1-4e82-e7c1-b06f05545705"
      },
      "source": [
        "def sum_list(items):\n",
        "    sum_numbers=0\n",
        "    for x in items:\n",
        "        sum_numbers+=x\n",
        "        return sum_numbers\n",
        "print(sum_list([1]))"
      ],
      "execution_count": 1,
      "outputs": [
        {
          "output_type": "stream",
          "text": [
            "1\n"
          ],
          "name": "stdout"
        }
      ]
    }
  ]
}