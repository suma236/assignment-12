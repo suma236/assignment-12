{
  "nbformat": 4,
  "nbformat_minor": 0,
  "metadata": {
    "colab": {
      "name": "reverse a tuple.ipynb",
      "provenance": []
    },
    "kernelspec": {
      "name": "python3",
      "display_name": "Python 3"
    }
  },
  "cells": [
    {
      "cell_type": "code",
      "metadata": {
        "id": "RuXj--rrE0io",
        "colab_type": "code",
        "colab": {
          "base_uri": "https://localhost:8080/",
          "height": 50
        },
        "outputId": "3ad56095-0af5-46a4-d111-cafbf097eb43"
      },
      "source": [
        "x=(\"programming\")\n",
        "y=reversed(x)\n",
        "print(tuple(y))\n",
        "x=(5,10,15,20)\n",
        "y=reversed(x)\n",
        "print(tuple(y))"
      ],
      "execution_count": 1,
      "outputs": [
        {
          "output_type": "stream",
          "text": [
            "('g', 'n', 'i', 'm', 'm', 'a', 'r', 'g', 'o', 'r', 'p')\n",
            "(20, 15, 10, 5)\n"
          ],
          "name": "stdout"
        }
      ]
    }
  ]
}