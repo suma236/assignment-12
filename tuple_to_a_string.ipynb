{
  "nbformat": 4,
  "nbformat_minor": 0,
  "metadata": {
    "colab": {
      "name": "tuple to a string.ipynb",
      "provenance": []
    },
    "kernelspec": {
      "name": "python3",
      "display_name": "Python 3"
    }
  },
  "cells": [
    {
      "cell_type": "code",
      "metadata": {
        "id": "okSahSd_M3Ae",
        "colab_type": "code",
        "colab": {
          "base_uri": "https://localhost:8080/",
          "height": 34
        },
        "outputId": "58d4b122-7bee-4dad-cc6e-ababfc8ad154"
      },
      "source": [
        "def convertTuple(tup):\n",
        "    str=' '.join(tup)\n",
        "    return str\n",
        "tuple=('p','y','t','h','o','n')\n",
        "str=convertTuple(tuple)\n",
        "print(str)"
      ],
      "execution_count": 1,
      "outputs": [
        {
          "output_type": "stream",
          "text": [
            "p y t h o n\n"
          ],
          "name": "stdout"
        }
      ]
    }
  ]
}