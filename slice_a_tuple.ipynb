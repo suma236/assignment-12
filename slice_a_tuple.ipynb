{
  "nbformat": 4,
  "nbformat_minor": 0,
  "metadata": {
    "colab": {
      "name": "slice a tuple.ipynb",
      "provenance": []
    },
    "kernelspec": {
      "name": "python3",
      "display_name": "Python 3"
    }
  },
  "cells": [
    {
      "cell_type": "code",
      "metadata": {
        "id": "17keo2UHGTj4",
        "colab_type": "code",
        "colab": {
          "base_uri": "https://localhost:8080/",
          "height": 50
        },
        "outputId": "1dc8d37a-0cf4-4a19-ae0a-5b2e2ff50e1a"
      },
      "source": [
        "tuple=(2,4,3,5,4,6,7,8,6,1)\n",
        "slice=tuple[3:5]\n",
        "print(slice)\n",
        "_slice=tuple[:6]\n",
        "print(_slice)"
      ],
      "execution_count": 1,
      "outputs": [
        {
          "output_type": "stream",
          "text": [
            "(5, 4)\n",
            "(2, 4, 3, 5, 4, 6)\n"
          ],
          "name": "stdout"
        }
      ]
    }
  ]
}