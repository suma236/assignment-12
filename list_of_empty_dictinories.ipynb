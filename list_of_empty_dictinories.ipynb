{
  "nbformat": 4,
  "nbformat_minor": 0,
  "metadata": {
    "colab": {
      "name": "list of empty dictinories.ipynb",
      "provenance": []
    },
    "kernelspec": {
      "name": "python3",
      "display_name": "Python 3"
    }
  },
  "cells": [
    {
      "cell_type": "code",
      "metadata": {
        "id": "iRASDktvDI50",
        "colab_type": "code",
        "colab": {
          "base_uri": "https://localhost:8080/",
          "height": 34
        },
        "outputId": "5ae5f64b-1261-4da4-b50f-6cb09b02984b"
      },
      "source": [
        "n=5\n",
        "l=[{} for _ in range(n)]\n",
        "print(l)"
      ],
      "execution_count": 1,
      "outputs": [
        {
          "output_type": "stream",
          "text": [
            "[{}, {}, {}, {}, {}]\n"
          ],
          "name": "stdout"
        }
      ]
    }
  ]
}