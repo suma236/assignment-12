{
  "nbformat": 4,
  "nbformat_minor": 0,
  "metadata": {
    "colab": {
      "name": "tuple.ipynb",
      "provenance": []
    },
    "kernelspec": {
      "name": "python3",
      "display_name": "Python 3"
    }
  },
  "cells": [
    {
      "cell_type": "code",
      "metadata": {
        "id": "GNAe94naCdJG",
        "colab_type": "code",
        "colab": {
          "base_uri": "https://localhost:8080/",
          "height": 34
        },
        "outputId": "e03ca09d-9df2-4beb-94fb-aaf62a2a872e"
      },
      "source": [
        "tuple=(\"tuple\",\"false\",3.2,1)\n",
        "print(tuple)"
      ],
      "execution_count": 1,
      "outputs": [
        {
          "output_type": "stream",
          "text": [
            "('tuple', 'false', 3.2, 1)\n"
          ],
          "name": "stdout"
        }
      ]
    }
  ]
}